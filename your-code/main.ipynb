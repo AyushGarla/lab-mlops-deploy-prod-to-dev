{
 "cells": [
  {
   "cell_type": "markdown",
   "metadata": {},
   "source": [
    "# LAB | MLOps Deployment from PROD to DEV"
   ]
  },
  {
   "cell_type": "markdown",
   "metadata": {
    "vscode": {
     "languageId": "plaintext"
    }
   },
   "source": [
    "\n",
    "## Objective\n",
    "In this exercise, you will work in pairs to simulate the process of deploying code from a development environment (DEV) to a production environment (PRD). One student will act as the developer pushing code, while the other will be the gatekeeper ensuring the code runs correctly.\n",
    "\n",
    "## Instructions\n",
    "\n",
    "### Step 1: Form Pairs\n",
    "- Split into pairs\n",
    "\n",
    "### Step 2: Developer Role\n",
    "1. **Push Code to Repository**\n",
    "   - Create a new project or use an existing one\n",
    "   - Copy the code to a folder (which will be a git repo in a few minutes)\n",
    "   - Create a venv (see previous class in case you missed something)\n",
    "   - Install all the necessary packages\n",
    "   - Create the requirements.txt file\n",
    "\n",
    "   - Initialize a git repository in your project folder:\n",
    "     ```sh\n",
    "     git init\n",
    "     ```\n",
    "   - Add your project files to the repository - **do not add the venv folder to git**:\n",
    "     ```sh\n",
    "     git add [each_file]\n",
    "     ```\n",
    "\n",
    "   - Commit your changes:\n",
    "     ```sh\n",
    "     git commit -m \"Initial commit\"\n",
    "     ```\n",
    "   - Push your project to a remote git repository (GitHub, GitLab, etc.):\n",
    "     ```sh\n",
    "     git remote add origin <remote-repo-url>\n",
    "     git push -u origin main\n",
    "     ```\n",
    "\n",
    "2. **Create a Pull Request**\n",
    "   - Go to your remote repository and create a pull request (PR).\n",
    "\n",
    "### Step 3: Gatekeeper Role\n",
    "1. **Review and Pull Code**\n",
    "   - Review the pull request created by your partner.\n",
    "   - If everything looks good, merge the pull request.\n",
    "   - Pull the latest changes from the remote repository:\n",
    "     ```sh\n",
    "     git pull origin main\n",
    "     ```\n",
    "\n",
    "2. **Setup Environment**\n",
    "   - Navigate to the project directory.\n",
    "   - Create an empty venv\n",
    "   - Install the required dependencies listed in `requirements.txt`:\n",
    "     ```sh\n",
    "     pip install -r requirements.txt\n",
    "     ```\n",
    "\n",
    "3. **Run the Project**\n",
    "   - Ensure the project runs without errors.\n",
    "   - Provide feedback to the developer if there are any issues.\n",
    "\n",
    "### Step 4: Swap Roles and Repeat\n",
    "- Swap roles and repeat the exercise, so each student gets to be both the developer and the gatekeeper.\n",
    "  - Bonus: to simulate reality, try to do this again outside a video call (via Slack messages for example)\n",
    "\n",
    "### Notes\n",
    "- Ensure clear communication between partners during the process.\n",
    "- Make use of version control best practices.\n",
    "- Document any issues encountered and how they were resolved.\n",
    "\n",
    "## Deliverables\n",
    "- Each pair should have a functioning project that has been successfully reviewed, pulled, and run by the gatekeeper.\n",
    "- A brief report on the process, any challenges faced, and how they were overcome.\n",
    "\n",
    "Good luck and happy coding!\n",
    "\n",
    "\n"
   ]
  },
  {
   "cell_type": "markdown",
   "metadata": {},
   "source": [
    "## Developer role"
   ]
  },
  {
   "cell_type": "markdown",
   "metadata": {},
   "source": [
    "As the developer, I was responsible for creating the project \"clean_csv\" and ensuring it could run smoothly across different systems. Initially, I worked with a requirements.yml file generated on MacOS.\n",
    "\n",
    "Project Creation: Set up the codebase and organized the project files.\n",
    "\n",
    "Virtual Environment: A conda environment was created (test_prod_dev) to isolate dependencies and maintain reproducibility.\n",
    "\n",
    "Dependency Tracking: Identified that the requirments.yml contained MacOS-specific packages (e.g., libcxx, libedit, appnope) and a Mac-specific prefix path. I removed those and simplified the file for cross-platform use.\n",
    "\n",
    "Git Usage: Pushed the updated requirments.yml and code changes to the repository.\n",
    "\n",
    "PR Creation: Submitted a Pull Request (PR) to share the adapted environment setup with collaborators."
   ]
  },
  {
   "cell_type": "markdown",
   "metadata": {},
   "source": [
    "## Gatekeeper role"
   ]
  },
  {
   "cell_type": "markdown",
   "metadata": {},
   "source": [
    "As the gatekeeper, the responsibilities included verifying the changes made by the developer:\n",
    "\n",
    "PR Review: Reviewed the developer’s PR to confirm that OS-specific dependencies were removed and only cross-platform packages remained.\n",
    "\n",
    "Repository Pull: Pulled the updated repository from GitHub to ensure local code and environment files matched the developer’s changes.\n",
    "\n",
    "Virtual Environment: Created the virtual environment on Windows using the updated YAML file.\n",
    "\n",
    "conda env create -f environment_windows.yml -n test_env\n",
    "\n",
    "\n",
    "Dependency Installation: Verified that conda successfully installed the required packages without errors.\n",
    "\n",
    "Project Run: Activated the environment and executed the project code to confirm that the application ran correctly:\n",
    "\n",
    "conda activate test_env\n",
    "python run.py"
   ]
  },
  {
   "cell_type": "markdown",
   "metadata": {},
   "source": [
    "## Swap Roles for End-to-End Process Simulation"
   ]
  },
  {
   "cell_type": "markdown",
   "metadata": {},
   "source": [
    "To simulate a real-world development workflow, roles were swapped:\n",
    "\n",
    "The developer became the gatekeeper, testing the project setup and validating reproducibility.\n",
    "\n",
    "The gatekeeper took the developer role, making adjustments or new changes (e.g., adding missing dependencies like pandas, numpy, or scikit-learn if needed) and opening a PR.\n",
    "\n",
    "This simulation ensured that the process works seamlessly in both directions and validated the project’s cross-platform compatibility."
   ]
  },
  {
   "cell_type": "markdown",
   "metadata": {},
   "source": [
    "## Documentation and Brief Report on Process and Challenges"
   ]
  },
  {
   "cell_type": "markdown",
   "metadata": {},
   "source": [
    "Process: The project required adapting a MacOS-generated environment.yml for Windows. This involved stripping away OS-specific dependencies, removing the prefix path, and simplifying the environment file. The updated file was committed, reviewed, pulled, and tested successfully on Windows.\n",
    "\n",
    "Challenges:\n",
    "\n",
    "OS-specific dependencies caused errors on Windows.\n",
    "\n",
    "The prefix path pointed to a Mac directory, which had to be removed.\n",
    "\n",
    "Ensuring minimal but complete dependencies required careful validation.\n",
    "\n",
    "Outcome: A clean, cross-platform environment_windows.yml was created, enabling reproducible environments on both MacOS and Windows.\n",
    "\n",
    "Lesson Learned: It is best to keep environment files minimal and cross-platform, adding only essential dependencies. System-specific details (like prefix paths or OS-specific libraries) should not be included in shared environment files."
   ]
  }
 ],
 "metadata": {
  "kernelspec": {
   "display_name": "venv_ironhack",
   "language": "python",
   "name": "python3"
  },
  "language_info": {
   "codemirror_mode": {
    "name": "ipython",
    "version": 3
   },
   "file_extension": ".py",
   "mimetype": "text/x-python",
   "name": "python",
   "nbconvert_exporter": "python",
   "pygments_lexer": "ipython3",
   "version": "3.11.9"
  }
 },
 "nbformat": 4,
 "nbformat_minor": 2
}
